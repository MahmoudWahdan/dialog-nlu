{
 "cells": [
  {
   "cell_type": "markdown",
   "metadata": {},
   "source": [
    "# Using `TransformerNLU` with Pruning"
   ]
  },
  {
   "cell_type": "markdown",
   "metadata": {},
   "source": [
    "#### Based on HuggingFace Transformers"
   ]
  },
  {
   "cell_type": "code",
   "execution_count": 1,
   "metadata": {},
   "outputs": [],
   "source": [
    "# imports\n",
    "from dialognlu import TransformerNLU, AutoNLU\n",
    "from dialognlu.readers.goo_format_reader import Reader\n",
    "\n",
    "import ipywidgets as widgets\n",
    "import json"
   ]
  },
  {
   "cell_type": "markdown",
   "metadata": {},
   "source": [
    "## Reading Training and Validation Datasets"
   ]
  },
  {
   "cell_type": "code",
   "execution_count": 2,
   "metadata": {},
   "outputs": [],
   "source": [
    "train_path = \"../data/snips/train\" # please, specify the path to your dataset\n",
    "val_path = \"../data/snips/valid\" # please, specify the path to your dataset\n",
    "\n",
    "train_dataset = Reader.read(train_path)\n",
    "val_dataset = Reader.read(val_path)"
   ]
  },
  {
   "cell_type": "markdown",
   "metadata": {},
   "source": [
    "## Initialize `TransformerNLU` model"
   ]
  },
  {
   "cell_type": "markdown",
   "metadata": {},
   "source": [
    "Enter model parameters"
   ]
  },
  {
   "cell_type": "code",
   "execution_count": 3,
   "metadata": {},
   "outputs": [
    {
     "data": {
      "application/vnd.jupyter.widget-view+json": {
       "model_id": "363284315f6740b09f60a9aa87041e69",
       "version_major": 2,
       "version_minor": 0
      },
      "text/plain": [
       "Dropdown(description='model_type:', options=('distilbert-base-uncased', 'bert-base-uncased', 'albert-base-v1',…"
      ]
     },
     "metadata": {},
     "output_type": "display_data"
    },
    {
     "data": {
      "application/vnd.jupyter.widget-view+json": {
       "model_id": "d14e5e88e0804b56bab24011c295cef2",
       "version_major": 2,
       "version_minor": 0
      },
      "text/plain": [
       "Text(value='', description='cache_dir')"
      ]
     },
     "metadata": {},
     "output_type": "display_data"
    }
   ],
   "source": [
    "pretrained_model_wid = widgets.Dropdown(options=['distilbert-base-uncased', 'bert-base-uncased',\n",
    "                                          'albert-base-v1', 'roberta-base'], \n",
    "                                  value='distilbert-base-uncased', description='model_type:', \n",
    "                                  disabled=False)\n",
    "cache_dir_text = widgets.Text(description=\"cache_dir\")\n",
    "display(pretrained_model_wid, cache_dir_text)"
   ]
  },
  {
   "cell_type": "code",
   "execution_count": 4,
   "metadata": {},
   "outputs": [
    {
     "name": "stdout",
     "output_type": "stream",
     "text": [
      "{\n",
      "    \"cache_dir\": \"/media/mwahdan/Data/transformers\",\n",
      "    \"from_pt\": false,\n",
      "    \"intent_loss_weight\": 1.0,\n",
      "    \"layer_pruning\": {\n",
      "        \"k\": 4,\n",
      "        \"strategy\": \"top\"\n",
      "    },\n",
      "    \"max_length\": 64,\n",
      "    \"num_bert_fine_tune_layers\": 10,\n",
      "    \"pretrained_model_name_or_path\": \"distilbert-base-uncased\",\n",
      "    \"slots_loss_weight\": 3.0\n",
      "}\n"
     ]
    }
   ],
   "source": [
    "k_layers = 4 # you can change this\n",
    "pretrained_model = pretrained_model_wid.value\n",
    "cache_dir = cache_dir_text.value\n",
    "if len(cache_dir.strip()) == 0:\n",
    "    cache_dir = None\n",
    "config = {\n",
    "    \"cache_dir\": cache_dir,\n",
    "    \"pretrained_model_name_or_path\": pretrained_model,\n",
    "    \"from_pt\": False,\n",
    "    \"num_bert_fine_tune_layers\": 10,\n",
    "    \"intent_loss_weight\": 1.0,#0.2,\n",
    "    \"slots_loss_weight\": 3.0,#2.0,\n",
    "\n",
    "    \"max_length\": 64, # You can set max_length (recommended) or leave it and it will be computed automatically based on longest training example\n",
    "    \n",
    "    \"layer_pruning\": {\n",
    "        \"strategy\": \"top\",\n",
    "        \"k\": k_layers\n",
    "    }\n",
    "}\n",
    "print(json.dumps(config, indent=4, sort_keys=True))\n",
    "\n",
    "# initialize TransformerNLU from config\n",
    "nlu = TransformerNLU.from_config(config)"
   ]
  },
  {
   "cell_type": "markdown",
   "metadata": {},
   "source": [
    "## Train `TransformerNLU` model"
   ]
  },
  {
   "cell_type": "code",
   "execution_count": 5,
   "metadata": {},
   "outputs": [
    {
     "name": "stdout",
     "output_type": "stream",
     "text": [
      "Vectorizing training text ...\n",
      "Fitting tags encoder ...\n",
      "Fitting intent encoder ...\n",
      "Encoding training tags ...\n",
      "Encoding training intents ...\n",
      "Vectorizing validation text ...\n",
      "Encoding validation tags ...\n",
      "Encoding validation intents ...\n",
      "WARNING:tensorflow:Skipping loading of weights for layer distilbert due to mismatch in number of weights (36 vs 100).\n"
     ]
    },
    {
     "name": "stderr",
     "output_type": "stream",
     "text": [
      "Some weights of the model checkpoint at distilbert-base-uncased were not used when initializing TFDistilBertModel: ['activation_13', 'vocab_layer_norm', 'vocab_projector', 'vocab_transform']\n",
      "- This IS expected if you are initializing TFDistilBertModel from the checkpoint of a model trained on another task or with another architecture (e.g. initializing a BertForSequenceClassification model from a BertForPretraining model).\n",
      "- This IS NOT expected if you are initializing TFDistilBertModel from the checkpoint of a model that you expect to be exactly identical (initializing a BertForSequenceClassification model from a BertForSequenceClassification model).\n",
      "All the weights of TFDistilBertModel were initialized from the model checkpoint at distilbert-base-uncased.\n",
      "If your task is similar to the task the model of the ckeckpoint was trained on, you can already use TFDistilBertModel for predictions without further training.\n"
     ]
    },
    {
     "name": "stdout",
     "output_type": "stream",
     "text": [
      "Model: \"model\"\n",
      "__________________________________________________________________________________________________\n",
      "Layer (type)                    Output Shape         Param #     Connected to                     \n",
      "==================================================================================================\n",
      "input_word_ids (InputLayer)     [(None, 64)]         0                                            \n",
      "__________________________________________________________________________________________________\n",
      "input_mask (InputLayer)         [(None, 64)]         0                                            \n",
      "__________________________________________________________________________________________________\n",
      "distilbert (TFDistilBertMainLay TFBaseModelOutput(la 38011392    input_word_ids[0][0]             \n",
      "                                                                 input_mask[0][0]                 \n",
      "__________________________________________________________________________________________________\n",
      "time_distributed (TimeDistribut (None, 64, 73)       56137       distilbert[0][0]                 \n",
      "__________________________________________________________________________________________________\n",
      "valid_positions (InputLayer)    [(None, 64, 73)]     0                                            \n",
      "__________________________________________________________________________________________________\n",
      "global_average_pooling1d (Globa (None, 768)          0           distilbert[0][0]                 \n",
      "__________________________________________________________________________________________________\n",
      "slots_tagger (Multiply)         (None, 64, 73)       0           time_distributed[0][0]           \n",
      "                                                                 valid_positions[0][0]            \n",
      "__________________________________________________________________________________________________\n",
      "intent_classifier (Dense)       (None, 7)            5383        global_average_pooling1d[0][0]   \n",
      "==================================================================================================\n",
      "Total params: 38,072,912\n",
      "Trainable params: 38,072,912\n",
      "Non-trainable params: 0\n",
      "__________________________________________________________________________________________________\n",
      "Training model ...\n",
      "Epoch 1/3\n"
     ]
    },
    {
     "name": "stderr",
     "output_type": "stream",
     "text": [
      "/home/mwahdan/anaconda3/envs/nlp_env/lib/python3.8/site-packages/tensorflow/python/keras/engine/functional.py:592: UserWarning: Input dict contained keys ['input_type_ids', 'sequence_lengths'] which did not match any model input. They will be ignored by the model.\n",
      "  warnings.warn(\n"
     ]
    },
    {
     "name": "stdout",
     "output_type": "stream",
     "text": [
      "409/409 [==============================] - 42s 97ms/step - loss: 12.0686 - slots_tagger_loss: 3.8216 - intent_classifier_loss: 0.6038 - intent_classifier_acc: 0.7985 - val_loss: 11.0460 - val_slots_tagger_loss: 3.6394 - val_intent_classifier_loss: 0.1277 - val_intent_classifier_acc: 0.9657\n",
      " - f1: 59.29\n",
      "Epoch 2/3\n",
      "409/409 [==============================] - 37s 90ms/step - loss: 10.9470 - slots_tagger_loss: 3.6321 - intent_classifier_loss: 0.0507 - intent_classifier_acc: 0.9849 - val_loss: 10.9902 - val_slots_tagger_loss: 3.6162 - val_intent_classifier_loss: 0.1417 - val_intent_classifier_acc: 0.9686\n",
      " - f1: 65.95\n",
      "Epoch 3/3\n",
      "409/409 [==============================] - 37s 90ms/step - loss: 10.8351 - slots_tagger_loss: 3.6060 - intent_classifier_loss: 0.0171 - intent_classifier_acc: 0.9953 - val_loss: 10.9133 - val_slots_tagger_loss: 3.6048 - val_intent_classifier_loss: 0.0989 - val_intent_classifier_acc: 0.9700\n",
      " - f1: 69.12\n"
     ]
    },
    {
     "data": {
      "image/png": "[encoded data removed]",
      "text/plain": [
       "<Figure size 432x288 with 1 Axes>"
      ]
     },
     "metadata": {
      "needs_background": "light"
     },
     "output_type": "display_data"
    },
    {
     "data": {
      "image/png": "[encoded data removed]",
      "text/plain": [
       "<Figure size 432x288 with 1 Axes>"
      ]
     },
     "metadata": {
      "needs_background": "light"
     },
     "output_type": "display_data"
    },
    {
     "data": {
      "image/png": "[encoded data removed]",
      "text/plain": [
       "<Figure size 432x288 with 1 Axes>"
      ]
     },
     "metadata": {
      "needs_background": "light"
     },
     "output_type": "display_data"
    },
    {
     "data": {
      "image/png": "[encoded data removed]",
      "text/plain": [
       "<Figure size 432x288 with 1 Axes>"
      ]
     },
     "metadata": {
      "needs_background": "light"
     },
     "output_type": "display_data"
    }
   ],
   "source": [
    "# start model training\n",
    "nlu.train(train_dataset, val_dataset, epochs=3, batch_size=32)"
   ]
  },
  {
   "cell_type": "markdown",
   "metadata": {},
   "source": [
    "## Save the trained model\n",
    "Save the full model and convert it to `tflite` model with `hybrid_quantization`"
   ]
  },
  {
   "cell_type": "code",
   "execution_count": 6,
   "metadata": {},
   "outputs": [
    {
     "name": "stdout",
     "output_type": "stream",
     "text": [
      "Saving model to '../saved_models/joint_distilbert-base-uncased_model_pruning_4_layers' ...\n",
      "WARNING:tensorflow:Skipping full serialization of Keras layer <tensorflow.python.keras.layers.core.Dropout object at 0x7f888fcabb80>, because it is not built.\n",
      "WARNING:tensorflow:Skipping full serialization of Keras layer <tensorflow.python.keras.layers.core.Dropout object at 0x7f888e7ce3a0>, because it is not built.\n"
     ]
    },
    {
     "name": "stderr",
     "output_type": "stream",
     "text": [
      "WARNING:absl:Found untraced functions such as embeddings_layer_call_fn, embeddings_layer_call_and_return_conditional_losses, transformer_layer_call_fn, transformer_layer_call_and_return_conditional_losses, position_embeddings_layer_call_fn while saving (showing 5 of 160). These functions will not be directly callable after loading.\n",
      "WARNING:absl:Found untraced functions such as embeddings_layer_call_fn, embeddings_layer_call_and_return_conditional_losses, transformer_layer_call_fn, transformer_layer_call_and_return_conditional_losses, position_embeddings_layer_call_fn while saving (showing 5 of 160). These functions will not be directly callable after loading.\n"
     ]
    },
    {
     "name": "stdout",
     "output_type": "stream",
     "text": [
      "INFO:tensorflow:Assets written to: /tmp/tmpm769he17/assets\n"
     ]
    },
    {
     "name": "stderr",
     "output_type": "stream",
     "text": [
      "INFO:tensorflow:Assets written to: /tmp/tmpm769he17/assets\n",
      "INFO:absl:Using new converter: If you encounter a problem please file a bug. You can opt-out by setting experimental_new_converter=False\n"
     ]
    },
    {
     "name": "stdout",
     "output_type": "stream",
     "text": [
      "Saved!\n"
     ]
    }
   ],
   "source": [
    "save_path = f\"../saved_models/joint_{pretrained_model}_model_pruning_{k_layers}_layers\"\n",
    "\n",
    "print(f\"Saving model to '{save_path}' ...\")\n",
    "nlu.save(save_path, save_tflite=True, conversion_mode=\"hybrid_quantization\")\n",
    "print(\"Saved!\")"
   ]
  },
  {
   "cell_type": "markdown",
   "metadata": {},
   "source": [
    "## [Optional] Load the model from disk"
   ]
  },
  {
   "cell_type": "code",
   "execution_count": 7,
   "metadata": {},
   "outputs": [
    {
     "name": "stdout",
     "output_type": "stream",
     "text": [
      "Loading model ...\n",
      "Loading TransformerNLU ...\n",
      "Model: \"model\"\n",
      "__________________________________________________________________________________________________\n",
      "Layer (type)                    Output Shape         Param #     Connected to                     \n",
      "==================================================================================================\n",
      "input_word_ids (InputLayer)     [(None, 64)]         0                                            \n",
      "__________________________________________________________________________________________________\n",
      "input_mask (InputLayer)         [(None, 64)]         0                                            \n",
      "__________________________________________________________________________________________________\n",
      "distilbert (TFDistilBertMainLay TFBaseModelOutput(la 38011392    input_word_ids[0][0]             \n",
      "                                                                 input_mask[0][0]                 \n",
      "__________________________________________________________________________________________________\n",
      "time_distributed (TimeDistribut (None, 64, 73)       56137       distilbert[0][0]                 \n",
      "__________________________________________________________________________________________________\n",
      "valid_positions (InputLayer)    [(None, 64, 73)]     0                                            \n",
      "__________________________________________________________________________________________________\n",
      "global_average_pooling1d (Globa (None, 768)          0           distilbert[0][0]                 \n",
      "__________________________________________________________________________________________________\n",
      "slots_tagger (Multiply)         (None, 64, 73)       0           time_distributed[0][0]           \n",
      "                                                                 valid_positions[0][0]            \n",
      "__________________________________________________________________________________________________\n",
      "intent_classifier (Dense)       (None, 7)            5383        global_average_pooling1d[0][0]   \n",
      "==================================================================================================\n",
      "Total params: 38,072,912\n",
      "Trainable params: 38,072,912\n",
      "Non-trainable params: 0\n",
      "__________________________________________________________________________________________________\n"
     ]
    }
   ],
   "source": [
    "print(\"Loading model ...\")\n",
    "nlu = AutoNLU.load(save_path)"
   ]
  },
  {
   "cell_type": "markdown",
   "metadata": {},
   "source": [
    "## Reading Testing Dataset"
   ]
  },
  {
   "cell_type": "code",
   "execution_count": 8,
   "metadata": {},
   "outputs": [],
   "source": [
    "test_path = \"../data/snips/test\" # please, specify the path to the testing dataset\n",
    "test_dataset = Reader.read(test_path)"
   ]
  },
  {
   "cell_type": "markdown",
   "metadata": {},
   "source": [
    "## Evaluating model"
   ]
  },
  {
   "cell_type": "code",
   "execution_count": 9,
   "metadata": {},
   "outputs": [
    {
     "name": "stdout",
     "output_type": "stream",
     "text": [
      "Vectorizing validation text ...\n"
     ]
    },
    {
     "name": "stderr",
     "output_type": "stream",
     "text": [
      "/home/mwahdan/anaconda3/envs/nlp_env/lib/python3.8/site-packages/tensorflow/python/keras/engine/functional.py:592: UserWarning: Input dict contained keys ['input_type_ids', 'sequence_lengths'] which did not match any model input. They will be ignored by the model.\n",
      "  warnings.warn(\n"
     ]
    },
    {
     "name": "stdout",
     "output_type": "stream",
     "text": [
      "Slot Classification Report:                             precision    recall  f1-score   support\n",
      "\n",
      "                     album     0.0000    0.0000    0.0000        10\n",
      "                    artist     0.3440    0.4019    0.3707       107\n",
      "               best_rating     1.0000    1.0000    1.0000        43\n",
      "                      city     0.3646    0.5833    0.4487        60\n",
      "     condition_description     0.9655    1.0000    0.9825        28\n",
      "     condition_temperature     1.0000    1.0000    1.0000        23\n",
      "                   country     0.6136    0.6136    0.6136        44\n",
      "                   cuisine     0.8889    0.5714    0.6957        14\n",
      "          current_location     0.8667    0.9286    0.8966        14\n",
      "               entity_name     0.2031    0.3939    0.2680        33\n",
      "                  facility     1.0000    1.0000    1.0000         3\n",
      "                     genre     0.6000    0.6000    0.6000         5\n",
      "            geographic_poi     0.0455    0.0909    0.0606        11\n",
      "             location_name     0.9200    0.9583    0.9388        24\n",
      "                movie_name     0.2500    0.3830    0.3025        47\n",
      "                movie_type     0.7568    0.8485    0.8000        33\n",
      "                music_item     0.8673    0.9423    0.9032       104\n",
      "      object_location_type     0.6800    0.7727    0.7234        22\n",
      "               object_name     0.3448    0.5442    0.4222       147\n",
      "object_part_of_series_type     0.8333    0.9091    0.8696        11\n",
      "             object_select     0.9302    1.0000    0.9639        40\n",
      "               object_type     0.8764    0.9630    0.9176       162\n",
      "    party_size_description     0.1000    0.4000    0.1600        10\n",
      "         party_size_number     0.8214    0.9200    0.8679        50\n",
      "                  playlist     0.4811    0.6899    0.5669       129\n",
      "            playlist_owner     0.8986    0.8857    0.8921        70\n",
      "                       poi     0.3000    0.3750    0.3333         8\n",
      "               rating_unit     1.0000    1.0000    1.0000        40\n",
      "              rating_value     0.9877    1.0000    0.9938        80\n",
      "           restaurant_name     0.0455    0.0667    0.0541        15\n",
      "           restaurant_type     0.8649    0.9846    0.9209        65\n",
      "               served_dish     0.1111    0.0833    0.0952        12\n",
      "                   service     0.9167    0.9167    0.9167        24\n",
      "                      sort     0.8333    0.9375    0.8824        32\n",
      "          spatial_relation     0.7531    0.8592    0.8026        71\n",
      "                     state     0.7536    0.8814    0.8125        59\n",
      "                 timeRange     0.4898    0.6729    0.5669       107\n",
      "                     track     0.0000    0.0000    0.0000         9\n",
      "                      year     0.9231    1.0000    0.9600        24\n",
      "\n",
      "                 micro avg     0.6136    0.7603    0.6791      1790\n",
      "                 macro avg     0.6315    0.6969    0.6565      1790\n",
      "              weighted avg     0.6633    0.7603    0.7040      1790\n",
      "\n",
      "Slot token f1_score = 0.862764\n",
      "Slot tag f1_score = 0.679142\n",
      "Intent accuracy = 0.972857\n"
     ]
    }
   ],
   "source": [
    "token_f1_score, tag_f1_score, report, acc = nlu.evaluate(test_dataset)\n",
    "\n",
    "print('Slot Classification Report:', report)\n",
    "print('Slot token f1_score = %f' % token_f1_score)\n",
    "print('Slot tag f1_score = %f' % tag_f1_score)\n",
    "print('Intent accuracy = %f' % acc)"
   ]
  },
  {
   "cell_type": "markdown",
   "metadata": {},
   "source": [
    "## Make Predictions"
   ]
  },
  {
   "cell_type": "code",
   "execution_count": 10,
   "metadata": {},
   "outputs": [
    {
     "data": {
      "application/vnd.jupyter.widget-view+json": {
       "model_id": "0d9d0d1e1eeb46a0b6993e313b6a7f91",
       "version_major": 2,
       "version_minor": 0
      },
      "text/plain": [
       "Textarea(value='add sabrina salerno to the grime instrumentals playlist', description='Utterance:', layout=Lay…"
      ]
     },
     "metadata": {},
     "output_type": "display_data"
    },
    {
     "data": {
      "application/vnd.jupyter.widget-view+json": {
       "model_id": "651abfe4c45443bd9230cafe69b79ba8",
       "version_major": 2,
       "version_minor": 0
      },
      "text/plain": [
       "Button(description='Predict', style=ButtonStyle())"
      ]
     },
     "metadata": {},
     "output_type": "display_data"
    },
    {
     "data": {
      "application/vnd.jupyter.widget-view+json": {
       "model_id": "f34a75d511c549219c54335d18bc239e",
       "version_major": 2,
       "version_minor": 0
      },
      "text/plain": [
       "Textarea(value='', description='Result:', disabled=True, layout=Layout(flex='0 1 auto', height='400px', min_he…"
      ]
     },
     "metadata": {},
     "output_type": "display_data"
    }
   ],
   "source": [
    "l = widgets.Layout(flex='0 1 auto', height='40px', min_height='30px', width='auto')\n",
    "utterance_txt = widgets.Textarea(\n",
    "    value='add sabrina salerno to the grime instrumentals playlist',\n",
    "    placeholder='Type utterance here!',\n",
    "    description='Utterance:',\n",
    "    layout=l,\n",
    "    disabled=False\n",
    ")\n",
    "\n",
    "predict_btn = widgets.Button(\n",
    "    description='Predict'\n",
    ")\n",
    "\n",
    "result_layout = widgets.Layout(flex='0 1 auto', height='400px', min_height='30px', width='auto')\n",
    "result_txt = widgets.Textarea(\n",
    "    value='',\n",
    "    placeholder='Result goes here',\n",
    "    description='Result:',\n",
    "    layout=result_layout,\n",
    "    disabled=True\n",
    ")\n",
    "\n",
    "\n",
    "def btn_click_event(x):\n",
    "    result = nlu.predict(utterance_txt.value)\n",
    "    result = json.dumps(result, indent=4, sort_keys=True)\n",
    "    result_txt.value = result\n",
    "    \n",
    "predict_btn.on_click(btn_click_event)\n",
    "display(utterance_txt, predict_btn, result_txt)\n"
   ]
  },
  {
   "cell_type": "code",
   "execution_count": null,
   "metadata": {},
   "outputs": [],
   "source": []
  }
 ],
 "metadata": {
  "kernelspec": {
   "display_name": "nlp_env",
   "language": "python",
   "name": "nlp_env"
  },
  "language_info": {
   "codemirror_mode": {
    "name": "ipython",
    "version": 3
   },
   "file_extension": ".py",
   "mimetype": "text/x-python",
   "name": "python",
   "nbconvert_exporter": "python",
   "pygments_lexer": "ipython3",
   "version": "3.8.5"
  }
 },
 "nbformat": 4,
 "nbformat_minor": 4
}
