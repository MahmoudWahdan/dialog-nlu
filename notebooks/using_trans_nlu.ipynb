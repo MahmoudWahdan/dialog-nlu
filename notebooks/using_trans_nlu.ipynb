{
 "cells": [
  {
   "cell_type": "markdown",
   "metadata": {},
   "source": [
    "# Using `TransformerNLU`"
   ]
  },
  {
   "cell_type": "code",
   "execution_count": 1,
   "metadata": {},
   "outputs": [],
   "source": [
    "# imports\n",
    "from dialognlu import TransformerNLU, AutoNLU\n",
    "from dialognlu.readers.goo_format_reader import Reader\n",
    "\n",
    "import ipywidgets as widgets\n",
    "import json"
   ]
  },
  {
   "cell_type": "markdown",
   "metadata": {},
   "source": [
    "## Reading Training and Validation Datasets"
   ]
  },
  {
   "cell_type": "code",
   "execution_count": 2,
   "metadata": {},
   "outputs": [],
   "source": [
    "train_path = \"../data/snips/train\" # please, specify the path to your dataset\n",
    "val_path = \"../data/snips/valid\" # please, specify the path to your dataset\n",
    "\n",
    "train_dataset = Reader.read(train_path)\n",
    "val_dataset = Reader.read(val_path)"
   ]
  },
  {
   "cell_type": "markdown",
   "metadata": {},
   "source": [
    "## Initialize `TransformerNLU` model"
   ]
  },
  {
   "cell_type": "markdown",
   "metadata": {},
   "source": [
    "Enter model parameters"
   ]
  },
  {
   "cell_type": "code",
   "execution_count": 3,
   "metadata": {},
   "outputs": [
    {
     "data": {
      "application/vnd.jupyter.widget-view+json": {
       "model_id": "cb9e25cf10cc4991908fc3cfe3b91264",
       "version_major": 2,
       "version_minor": 0
      },
      "text/plain": [
       "Dropdown(description='model_type:', options=('distilbert-base-uncased', 'bert-base-uncased', 'albert-base-v1',…"
      ]
     },
     "metadata": {},
     "output_type": "display_data"
    },
    {
     "data": {
      "application/vnd.jupyter.widget-view+json": {
       "model_id": "4d9faa72a712432a902164a12001df77",
       "version_major": 2,
       "version_minor": 0
      },
      "text/plain": [
       "Text(value='', description='cache_dir')"
      ]
     },
     "metadata": {},
     "output_type": "display_data"
    }
   ],
   "source": [
    "pretrained_model_wid = widgets.Dropdown(options=['distilbert-base-uncased', 'bert-base-uncased',\n",
    "                                          'albert-base-v1', 'roberta-base'], \n",
    "                                  value='distilbert-base-uncased', description='model_type:', \n",
    "                                  disabled=False)\n",
    "cache_dir_text = widgets.Text(description=\"cache_dir\")\n",
    "display(pretrained_model_wid, cache_dir_text)"
   ]
  },
  {
   "cell_type": "code",
   "execution_count": 4,
   "metadata": {},
   "outputs": [
    {
     "name": "stdout",
     "output_type": "stream",
     "text": [
      "{\n",
      "    \"cache_dir\": \"/media/mwahdan/Data/transformers\",\n",
      "    \"from_pt\": false,\n",
      "    \"intent_loss_weight\": 1.0,\n",
      "    \"max_length\": 64,\n",
      "    \"num_bert_fine_tune_layers\": 10,\n",
      "    \"pretrained_model_name_or_path\": \"distilbert-base-uncased\",\n",
      "    \"slots_loss_weight\": 3.0\n",
      "}\n"
     ]
    }
   ],
   "source": [
    "pretrained_model = pretrained_model_wid.value\n",
    "cache_dir = cache_dir_text.value\n",
    "if len(cache_dir.strip()) == 0:\n",
    "    cache_dir = None\n",
    "config = {\n",
    "    \"cache_dir\": cache_dir,\n",
    "    \"pretrained_model_name_or_path\": pretrained_model,\n",
    "    \"from_pt\": False,\n",
    "    \"num_bert_fine_tune_layers\": 10,\n",
    "    \"intent_loss_weight\": 1.0,#0.2,\n",
    "    \"slots_loss_weight\": 3.0,#2.0,\n",
    "\n",
    "    \"max_length\": 64, # You can set max_length (recommended) or leave it and it will be computed automatically based on longest training example\n",
    "}\n",
    "print(json.dumps(config, indent=4, sort_keys=True))\n",
    "\n",
    "# initialize TransformerNLU from config\n",
    "nlu = TransformerNLU.from_config(config)"
   ]
  },
  {
   "cell_type": "markdown",
   "metadata": {},
   "source": [
    "## Train `TransformerNLU` model"
   ]
  },
  {
   "cell_type": "code",
   "execution_count": 5,
   "metadata": {},
   "outputs": [
    {
     "name": "stdout",
     "output_type": "stream",
     "text": [
      "Vectorizing training text ...\n",
      "Fitting tags encoder ...\n",
      "Fitting intent encoder ...\n",
      "Encoding training tags ...\n",
      "Encoding training intents ...\n",
      "Vectorizing validation text ...\n",
      "Encoding validation tags ...\n",
      "Encoding validation intents ...\n"
     ]
    },
    {
     "name": "stderr",
     "output_type": "stream",
     "text": [
      "Some weights of the model checkpoint at distilbert-base-uncased were not used when initializing TFDistilBertModel: ['activation_13', 'vocab_layer_norm', 'vocab_projector', 'vocab_transform']\n",
      "- This IS expected if you are initializing TFDistilBertModel from the checkpoint of a model trained on another task or with another architecture (e.g. initializing a BertForSequenceClassification model from a BertForPretraining model).\n",
      "- This IS NOT expected if you are initializing TFDistilBertModel from the checkpoint of a model that you expect to be exactly identical (initializing a BertForSequenceClassification model from a BertForSequenceClassification model).\n",
      "All the weights of TFDistilBertModel were initialized from the model checkpoint at distilbert-base-uncased.\n",
      "If your task is similar to the task the model of the ckeckpoint was trained on, you can already use TFDistilBertModel for predictions without further training.\n"
     ]
    },
    {
     "name": "stdout",
     "output_type": "stream",
     "text": [
      "Model: \"model\"\n",
      "__________________________________________________________________________________________________\n",
      "Layer (type)                    Output Shape         Param #     Connected to                     \n",
      "==================================================================================================\n",
      "input_word_ids (InputLayer)     [(None, 64)]         0                                            \n",
      "__________________________________________________________________________________________________\n",
      "input_mask (InputLayer)         [(None, 64)]         0                                            \n",
      "__________________________________________________________________________________________________\n",
      "distilbert (TFDistilBertMainLay TFBaseModelOutput(la 66362880    input_word_ids[0][0]             \n",
      "                                                                 input_mask[0][0]                 \n",
      "__________________________________________________________________________________________________\n",
      "time_distributed (TimeDistribut (None, 64, 73)       56137       distilbert[0][0]                 \n",
      "__________________________________________________________________________________________________\n",
      "valid_positions (InputLayer)    [(None, 64, 73)]     0                                            \n",
      "__________________________________________________________________________________________________\n",
      "global_average_pooling1d (Globa (None, 768)          0           distilbert[0][0]                 \n",
      "__________________________________________________________________________________________________\n",
      "slots_tagger (Multiply)         (None, 64, 73)       0           time_distributed[0][0]           \n",
      "                                                                 valid_positions[0][0]            \n",
      "__________________________________________________________________________________________________\n",
      "intent_classifier (Dense)       (None, 7)            5383        global_average_pooling1d[0][0]   \n",
      "==================================================================================================\n",
      "Total params: 66,424,400\n",
      "Trainable params: 66,424,400\n",
      "Non-trainable params: 0\n",
      "__________________________________________________________________________________________________\n",
      "Training model ...\n",
      "Epoch 1/3\n"
     ]
    },
    {
     "name": "stderr",
     "output_type": "stream",
     "text": [
      "/home/mwahdan/anaconda3/envs/nlp_env/lib/python3.8/site-packages/tensorflow/python/keras/engine/functional.py:592: UserWarning: Input dict contained keys ['input_type_ids', 'sequence_lengths'] which did not match any model input. They will be ignored by the model.\n",
      "  warnings.warn(\n"
     ]
    },
    {
     "name": "stdout",
     "output_type": "stream",
     "text": [
      "409/409 [==============================] - 99s 229ms/step - loss: 11.5818 - slots_tagger_loss: 3.7587 - intent_classifier_loss: 0.3059 - intent_classifier_acc: 0.8996 - val_loss: 10.7582 - val_slots_tagger_loss: 3.5684 - val_intent_classifier_loss: 0.0529 - val_intent_classifier_acc: 0.9829\n",
      " - f1: 90.13\n",
      "Epoch 2/3\n",
      "409/409 [==============================] - 95s 233ms/step - loss: 10.7367 - slots_tagger_loss: 3.5711 - intent_classifier_loss: 0.0234 - intent_classifier_acc: 0.9934 - val_loss: 10.7351 - val_slots_tagger_loss: 3.5629 - val_intent_classifier_loss: 0.0466 - val_intent_classifier_acc: 0.9857\n",
      " - f1: 93.06\n",
      "Epoch 3/3\n",
      "409/409 [==============================] - 99s 243ms/step - loss: 10.7056 - slots_tagger_loss: 3.5647 - intent_classifier_loss: 0.0114 - intent_classifier_acc: 0.9958 - val_loss: 10.7240 - val_slots_tagger_loss: 3.5603 - val_intent_classifier_loss: 0.0429 - val_intent_classifier_acc: 0.9871\n",
      " - f1: 93.60\n"
     ]
    },
    {
     "data": {
      "image/png": "[encoded data removed]",
      "text/plain": [
       "<Figure size 432x288 with 1 Axes>"
      ]
     },
     "metadata": {
      "needs_background": "light"
     },
     "output_type": "display_data"
    },
    {
     "data": {
      "image/png": "[encoded data removed]",
      "text/plain": [
       "<Figure size 432x288 with 1 Axes>"
      ]
     },
     "metadata": {
      "needs_background": "light"
     },
     "output_type": "display_data"
    },
    {
     "data": {
      "image/png": "[encoded data removed]",
      "text/plain": [
       "<Figure size 432x288 with 1 Axes>"
      ]
     },
     "metadata": {
      "needs_background": "light"
     },
     "output_type": "display_data"
    },
    {
     "data": {
      "image/png": "[encoded data removed]",
      "text/plain": [
       "<Figure size 432x288 with 1 Axes>"
      ]
     },
     "metadata": {
      "needs_background": "light"
     },
     "output_type": "display_data"
    }
   ],
   "source": [
    "# start model training\n",
    "nlu.train(train_dataset, val_dataset, epochs=3, batch_size=32)"
   ]
  },
  {
   "cell_type": "markdown",
   "metadata": {},
   "source": [
    "## Save the trained model\n",
    "Save the full model and convert it to `tflite` model with `hybrid_quantization`"
   ]
  },
  {
   "cell_type": "code",
   "execution_count": 6,
   "metadata": {},
   "outputs": [
    {
     "name": "stdout",
     "output_type": "stream",
     "text": [
      "Saving model to '../saved_models/joint_distilbert-base-uncased_model' ...\n",
      "WARNING:tensorflow:Skipping full serialization of Keras layer <tensorflow.python.keras.layers.core.Dropout object at 0x7fd4ac4523d0>, because it is not built.\n",
      "WARNING:tensorflow:Skipping full serialization of Keras layer <tensorflow.python.keras.layers.core.Dropout object at 0x7fd4ac1b93d0>, because it is not built.\n",
      "WARNING:tensorflow:Skipping full serialization of Keras layer <tensorflow.python.keras.layers.core.Dropout object at 0x7fd4875a58e0>, because it is not built.\n",
      "WARNING:tensorflow:Skipping full serialization of Keras layer <tensorflow.python.keras.layers.core.Dropout object at 0x7fd4ac0d6df0>, because it is not built.\n",
      "WARNING:tensorflow:Skipping full serialization of Keras layer <tensorflow.python.keras.layers.core.Dropout object at 0x7fd4ac0f5340>, because it is not built.\n",
      "WARNING:tensorflow:Skipping full serialization of Keras layer <tensorflow.python.keras.layers.core.Dropout object at 0x7fd4876fe850>, because it is not built.\n"
     ]
    },
    {
     "name": "stderr",
     "output_type": "stream",
     "text": [
      "WARNING:absl:Found untraced functions such as embeddings_layer_call_fn, embeddings_layer_call_and_return_conditional_losses, transformer_layer_call_fn, transformer_layer_call_and_return_conditional_losses, position_embeddings_layer_call_fn while saving (showing 5 of 420). These functions will not be directly callable after loading.\n",
      "WARNING:absl:Found untraced functions such as embeddings_layer_call_fn, embeddings_layer_call_and_return_conditional_losses, transformer_layer_call_fn, transformer_layer_call_and_return_conditional_losses, position_embeddings_layer_call_fn while saving (showing 5 of 420). These functions will not be directly callable after loading.\n"
     ]
    },
    {
     "name": "stdout",
     "output_type": "stream",
     "text": [
      "INFO:tensorflow:Assets written to: /tmp/tmpquirbn7m/assets\n"
     ]
    },
    {
     "name": "stderr",
     "output_type": "stream",
     "text": [
      "INFO:tensorflow:Assets written to: /tmp/tmpquirbn7m/assets\n",
      "INFO:absl:Using new converter: If you encounter a problem please file a bug. You can opt-out by setting experimental_new_converter=False\n"
     ]
    },
    {
     "name": "stdout",
     "output_type": "stream",
     "text": [
      "Saved!\n"
     ]
    }
   ],
   "source": [
    "save_path = f\"../saved_models/joint_{pretrained_model}_model\"\n",
    "\n",
    "print(f\"Saving model to '{save_path}' ...\")\n",
    "nlu.save(save_path, save_tflite=True, conversion_mode=\"hybrid_quantization\")\n",
    "print(\"Saved!\")"
   ]
  },
  {
   "cell_type": "markdown",
   "metadata": {},
   "source": [
    "## [Optional] Load the model from disk"
   ]
  },
  {
   "cell_type": "code",
   "execution_count": 7,
   "metadata": {},
   "outputs": [
    {
     "name": "stdout",
     "output_type": "stream",
     "text": [
      "Loading model ...\n",
      "Loading TransformerNLU ...\n",
      "Model: \"model\"\n",
      "__________________________________________________________________________________________________\n",
      "Layer (type)                    Output Shape         Param #     Connected to                     \n",
      "==================================================================================================\n",
      "input_word_ids (InputLayer)     [(None, 64)]         0                                            \n",
      "__________________________________________________________________________________________________\n",
      "input_mask (InputLayer)         [(None, 64)]         0                                            \n",
      "__________________________________________________________________________________________________\n",
      "distilbert (TFDistilBertMainLay TFBaseModelOutput(la 66362880    input_word_ids[0][0]             \n",
      "                                                                 input_mask[0][0]                 \n",
      "__________________________________________________________________________________________________\n",
      "time_distributed (TimeDistribut (None, 64, 73)       56137       distilbert[0][0]                 \n",
      "__________________________________________________________________________________________________\n",
      "valid_positions (InputLayer)    [(None, 64, 73)]     0                                            \n",
      "__________________________________________________________________________________________________\n",
      "global_average_pooling1d (Globa (None, 768)          0           distilbert[0][0]                 \n",
      "__________________________________________________________________________________________________\n",
      "slots_tagger (Multiply)         (None, 64, 73)       0           time_distributed[0][0]           \n",
      "                                                                 valid_positions[0][0]            \n",
      "__________________________________________________________________________________________________\n",
      "intent_classifier (Dense)       (None, 7)            5383        global_average_pooling1d[0][0]   \n",
      "==================================================================================================\n",
      "Total params: 66,424,400\n",
      "Trainable params: 66,424,400\n",
      "Non-trainable params: 0\n",
      "__________________________________________________________________________________________________\n"
     ]
    }
   ],
   "source": [
    "print(\"Loading model ...\")\n",
    "nlu = AutoNLU.load(save_path)"
   ]
  },
  {
   "cell_type": "markdown",
   "metadata": {},
   "source": [
    "## Reading Testing Dataset"
   ]
  },
  {
   "cell_type": "code",
   "execution_count": 8,
   "metadata": {},
   "outputs": [],
   "source": [
    "test_path = \"../data/snips/test\" # please, specify the path to the testing dataset\n",
    "test_dataset = Reader.read(test_path)"
   ]
  },
  {
   "cell_type": "markdown",
   "metadata": {},
   "source": [
    "## Evaluating model"
   ]
  },
  {
   "cell_type": "code",
   "execution_count": 9,
   "metadata": {},
   "outputs": [
    {
     "name": "stdout",
     "output_type": "stream",
     "text": [
      "Vectorizing validation text ...\n"
     ]
    },
    {
     "name": "stderr",
     "output_type": "stream",
     "text": [
      "/home/mwahdan/anaconda3/envs/nlp_env/lib/python3.8/site-packages/tensorflow/python/keras/engine/functional.py:592: UserWarning: Input dict contained keys ['input_type_ids', 'sequence_lengths'] which did not match any model input. They will be ignored by the model.\n",
      "  warnings.warn(\n"
     ]
    },
    {
     "name": "stdout",
     "output_type": "stream",
     "text": [
      "Slot Classification Report:                             precision    recall  f1-score   support\n",
      "\n",
      "                     album     0.2727    0.3000    0.2857        10\n",
      "                    artist     0.9439    0.9439    0.9439       107\n",
      "               best_rating     1.0000    1.0000    1.0000        43\n",
      "                      city     0.9667    0.9667    0.9667        60\n",
      "     condition_description     0.9032    1.0000    0.9492        28\n",
      "     condition_temperature     1.0000    1.0000    1.0000        23\n",
      "                   country     0.8936    0.9545    0.9231        44\n",
      "                   cuisine     0.8667    0.9286    0.8966        14\n",
      "          current_location     1.0000    1.0000    1.0000        14\n",
      "               entity_name     0.7568    0.8485    0.8000        33\n",
      "                  facility     1.0000    1.0000    1.0000         3\n",
      "                     genre     1.0000    1.0000    1.0000         5\n",
      "            geographic_poi     0.9167    1.0000    0.9565        11\n",
      "             location_name     1.0000    0.9583    0.9787        24\n",
      "                movie_name     0.7143    0.7447    0.7292        47\n",
      "                movie_type     1.0000    1.0000    1.0000        33\n",
      "                music_item     0.9712    0.9712    0.9712       104\n",
      "      object_location_type     1.0000    1.0000    1.0000        22\n",
      "               object_name     0.8050    0.8707    0.8366       147\n",
      "object_part_of_series_type     0.8333    0.9091    0.8696        11\n",
      "             object_select     0.9524    1.0000    0.9756        40\n",
      "               object_type     0.9755    0.9815    0.9785       162\n",
      "    party_size_description     1.0000    1.0000    1.0000        10\n",
      "         party_size_number     0.9804    1.0000    0.9901        50\n",
      "                  playlist     0.8939    0.9147    0.9042       129\n",
      "            playlist_owner     1.0000    1.0000    1.0000        70\n",
      "                       poi     0.8571    0.7500    0.8000         8\n",
      "               rating_unit     1.0000    1.0000    1.0000        40\n",
      "              rating_value     1.0000    1.0000    1.0000        80\n",
      "           restaurant_name     0.6316    0.8000    0.7059        15\n",
      "           restaurant_type     1.0000    0.9692    0.9844        65\n",
      "               served_dish     0.9091    0.8333    0.8696        12\n",
      "                   service     1.0000    1.0000    1.0000        24\n",
      "                      sort     0.9697    1.0000    0.9846        32\n",
      "          spatial_relation     0.9333    0.9859    0.9589        71\n",
      "                     state     0.9655    0.9492    0.9573        59\n",
      "                 timeRange     0.9541    0.9720    0.9630       107\n",
      "                     track     0.3333    0.4444    0.3810         9\n",
      "                      year     0.9231    1.0000    0.9600        24\n",
      "\n",
      "                 micro avg     0.9243    0.9475    0.9357      1790\n",
      "                 macro avg     0.9006    0.9230    0.9108      1790\n",
      "              weighted avg     0.9278    0.9475    0.9371      1790\n",
      "\n",
      "Slot token f1_score = 0.967422\n",
      "Slot tag f1_score = 0.935724\n",
      "Intent accuracy = 0.972857\n"
     ]
    }
   ],
   "source": [
    "token_f1_score, tag_f1_score, report, acc = nlu.evaluate(test_dataset)\n",
    "\n",
    "print('Slot Classification Report:', report)\n",
    "print('Slot token f1_score = %f' % token_f1_score)\n",
    "print('Slot tag f1_score = %f' % tag_f1_score)\n",
    "print('Intent accuracy = %f' % acc)"
   ]
  },
  {
   "cell_type": "markdown",
   "metadata": {},
   "source": [
    "## Make Predictions"
   ]
  },
  {
   "cell_type": "code",
   "execution_count": 10,
   "metadata": {},
   "outputs": [
    {
     "data": {
      "application/vnd.jupyter.widget-view+json": {
       "model_id": "e30c59e6efcf44258f481307b20e0290",
       "version_major": 2,
       "version_minor": 0
      },
      "text/plain": [
       "Textarea(value='add sabrina salerno to the grime instrumentals playlist', description='Utterance:', layout=Lay…"
      ]
     },
     "metadata": {},
     "output_type": "display_data"
    },
    {
     "data": {
      "application/vnd.jupyter.widget-view+json": {
       "model_id": "867299e3709447b1a35d375b7484dc9b",
       "version_major": 2,
       "version_minor": 0
      },
      "text/plain": [
       "Button(description='Predict', style=ButtonStyle())"
      ]
     },
     "metadata": {},
     "output_type": "display_data"
    },
    {
     "data": {
      "application/vnd.jupyter.widget-view+json": {
       "model_id": "f997969887cc41c9a1617e5e9f752df5",
       "version_major": 2,
       "version_minor": 0
      },
      "text/plain": [
       "Textarea(value='', description='Result:', disabled=True, layout=Layout(flex='0 1 auto', height='400px', min_he…"
      ]
     },
     "metadata": {},
     "output_type": "display_data"
    }
   ],
   "source": [
    "l = widgets.Layout(flex='0 1 auto', height='40px', min_height='30px', width='auto')\n",
    "utterance_txt = widgets.Textarea(\n",
    "    value='add sabrina salerno to the grime instrumentals playlist',\n",
    "    placeholder='Type utterance here!',\n",
    "    description='Utterance:',\n",
    "    layout=l,\n",
    "    disabled=False\n",
    ")\n",
    "\n",
    "predict_btn = widgets.Button(\n",
    "    description='Predict'\n",
    ")\n",
    "\n",
    "result_layout = widgets.Layout(flex='0 1 auto', height='400px', min_height='30px', width='auto')\n",
    "result_txt = widgets.Textarea(\n",
    "    value='',\n",
    "    placeholder='Result goes here',\n",
    "    description='Result:',\n",
    "    layout=result_layout,\n",
    "    disabled=True\n",
    ")\n",
    "\n",
    "\n",
    "def btn_click_event(x):\n",
    "    result = nlu.predict(utterance_txt.value)\n",
    "    result = json.dumps(result, indent=4, sort_keys=True)\n",
    "    result_txt.value = result\n",
    "    \n",
    "predict_btn.on_click(btn_click_event)\n",
    "display(utterance_txt, predict_btn, result_txt)\n"
   ]
  },
  {
   "cell_type": "code",
   "execution_count": null,
   "metadata": {},
   "outputs": [],
   "source": []
  }
 ],
 "metadata": {
  "kernelspec": {
   "display_name": "nlp_env",
   "language": "python",
   "name": "nlp_env"
  },
  "language_info": {
   "codemirror_mode": {
    "name": "ipython",
    "version": 3
   },
   "file_extension": ".py",
   "mimetype": "text/x-python",
   "name": "python",
   "nbconvert_exporter": "python",
   "pygments_lexer": "ipython3",
   "version": "3.8.5"
  }
 },
 "nbformat": 4,
 "nbformat_minor": 4
}
