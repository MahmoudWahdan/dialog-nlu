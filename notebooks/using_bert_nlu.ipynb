{
 "cells": [
  {
   "cell_type": "markdown",
   "metadata": {},
   "source": [
    "# Using `BertNLU`"
   ]
  },
  {
   "cell_type": "code",
   "execution_count": 1,
   "metadata": {},
   "outputs": [],
   "source": [
    "# imports\n",
    "from dialognlu import BertNLU, AutoNLU\n",
    "from dialognlu.readers.goo_format_reader import Reader\n",
    "\n",
    "import ipywidgets as widgets\n",
    "import json"
   ]
  },
  {
   "cell_type": "markdown",
   "metadata": {},
   "source": [
    "## Reading Training and Validation Datasets"
   ]
  },
  {
   "cell_type": "code",
   "execution_count": 2,
   "metadata": {},
   "outputs": [],
   "source": [
    "train_path = \"../data/snips/train\" # please, specify the path to your dataset\n",
    "val_path = \"../data/snips/valid\" # please, specify the path to your dataset\n",
    "\n",
    "train_dataset = Reader.read(train_path)\n",
    "val_dataset = Reader.read(val_path)"
   ]
  },
  {
   "cell_type": "markdown",
   "metadata": {},
   "source": [
    "## Initialize `BertNLU` model"
   ]
  },
  {
   "cell_type": "markdown",
   "metadata": {},
   "source": [
    "Choose `model_type`"
   ]
  },
  {
   "cell_type": "code",
   "execution_count": 3,
   "metadata": {},
   "outputs": [
    {
     "data": {
      "application/vnd.jupyter.widget-view+json": {
       "model_id": "2b992e7369c04e7cb3923463b0dbc771",
       "version_major": 2,
       "version_minor": 0
      },
      "text/plain": [
       "Dropdown(description='model_type:', options=('bert', 'albert'), value='bert')"
      ]
     },
     "metadata": {},
     "output_type": "display_data"
    }
   ],
   "source": [
    "model_type_wid = widgets.Dropdown(options=['bert', 'albert'], value='bert', description='model_type:', \n",
    "                                  disabled=False)\n",
    "display(model_type_wid)"
   ]
  },
  {
   "cell_type": "code",
   "execution_count": 4,
   "metadata": {},
   "outputs": [
    {
     "name": "stderr",
     "output_type": "stream",
     "text": [
      "INFO:absl:Using /tmp/tfhub_modules to cache modules.\n"
     ]
    },
    {
     "name": "stdout",
     "output_type": "stream",
     "text": [
      "{'model_type': 'bert'}\n"
     ]
    }
   ],
   "source": [
    "model_type = model_type_wid.value\n",
    "config = {\n",
    "    \"model_type\": model_type #\"bert\" #\"albert\"\n",
    "}\n",
    "print(config)\n",
    "\n",
    "# initialize BertNLU from config\n",
    "nlu = BertNLU.from_config(config)"
   ]
  },
  {
   "cell_type": "markdown",
   "metadata": {},
   "source": [
    "## Train `BertNLU` model"
   ]
  },
  {
   "cell_type": "code",
   "execution_count": 5,
   "metadata": {},
   "outputs": [
    {
     "name": "stdout",
     "output_type": "stream",
     "text": [
      "Vectorizing training text ...\n",
      "Fitting tags encoder ...\n",
      "Fitting intent encoder ...\n",
      "Encoding training tags ...\n",
      "Encoding training intents ...\n",
      "Vectorizing validation text ...\n",
      "Encoding validation tags ...\n",
      "Encoding validation intents ...\n",
      "Model: \"model\"\n",
      "__________________________________________________________________________________________________\n",
      "Layer (type)                    Output Shape         Param #     Connected to                     \n",
      "==================================================================================================\n",
      "input_word_ids (InputLayer)     [(None, None)]       0                                            \n",
      "__________________________________________________________________________________________________\n",
      "input_mask (InputLayer)         [(None, None)]       0                                            \n",
      "__________________________________________________________________________________________________\n",
      "input_type_ids (InputLayer)     [(None, None)]       0                                            \n",
      "__________________________________________________________________________________________________\n",
      "BertLayer (KerasLayer)          [(None, 768), (None, 109482241   input_word_ids[0][0]             \n",
      "                                                                 input_mask[0][0]                 \n",
      "                                                                 input_type_ids[0][0]             \n",
      "__________________________________________________________________________________________________\n",
      "time_distributed (TimeDistribut (None, None, 73)     56137       BertLayer[0][1]                  \n",
      "__________________________________________________________________________________________________\n",
      "valid_positions (InputLayer)    [(None, None, 73)]   0                                            \n",
      "__________________________________________________________________________________________________\n",
      "slots_tagger (Multiply)         (None, None, 73)     0           time_distributed[0][0]           \n",
      "                                                                 valid_positions[0][0]            \n",
      "__________________________________________________________________________________________________\n",
      "intent_classifier (Dense)       (None, 7)            5383        BertLayer[0][0]                  \n",
      "==================================================================================================\n",
      "Total params: 109,543,761\n",
      "Trainable params: 109,543,760\n",
      "Non-trainable params: 1\n",
      "__________________________________________________________________________________________________\n",
      "Training model ...\n",
      "Epoch 1/3\n"
     ]
    },
    {
     "name": "stderr",
     "output_type": "stream",
     "text": [
      "/home/mwahdan/anaconda3/envs/nlp_env/lib/python3.8/site-packages/tensorflow/python/keras/engine/functional.py:592: UserWarning: Input dict contained keys ['sequence_lengths'] which did not match any model input. They will be ignored by the model.\n",
      "  warnings.warn(\n"
     ]
    },
    {
     "name": "stdout",
     "output_type": "stream",
     "text": [
      "409/409 [==============================] - 124s 276ms/step - loss: 10.4169 - slots_tagger_loss: 3.3259 - intent_classifier_loss: 0.4391 - intent_classifier_acc: 0.8540 - val_loss: 7.7083 - val_slots_tagger_loss: 2.5623 - val_intent_classifier_loss: 0.0215 - val_intent_classifier_acc: 0.9943\n",
      "Epoch 2/3\n",
      "409/409 [==============================] - 111s 272ms/step - loss: 9.2427 - slots_tagger_loss: 3.0710 - intent_classifier_loss: 0.0296 - intent_classifier_acc: 0.9916 - val_loss: 7.7178 - val_slots_tagger_loss: 2.5601 - val_intent_classifier_loss: 0.0373 - val_intent_classifier_acc: 0.9857\n",
      "Epoch 3/3\n",
      "409/409 [==============================] - 113s 275ms/step - loss: 9.2235 - slots_tagger_loss: 3.0690 - intent_classifier_loss: 0.0165 - intent_classifier_acc: 0.9942 - val_loss: 7.6928 - val_slots_tagger_loss: 2.5555 - val_intent_classifier_loss: 0.0264 - val_intent_classifier_acc: 0.9886\n"
     ]
    },
    {
     "data": {
      "image/png": "[encoded data removed]",
      "text/plain": [
       "<Figure size 432x288 with 1 Axes>"
      ]
     },
     "metadata": {
      "needs_background": "light"
     },
     "output_type": "display_data"
    },
    {
     "data": {
      "image/png": "[encoded data removed]",
      "text/plain": [
       "<Figure size 432x288 with 1 Axes>"
      ]
     },
     "metadata": {
      "needs_background": "light"
     },
     "output_type": "display_data"
    },
    {
     "data": {
      "image/png": "[encoded data removed]",
      "text/plain": [
       "<Figure size 432x288 with 1 Axes>"
      ]
     },
     "metadata": {
      "needs_background": "light"
     },
     "output_type": "display_data"
    },
    {
     "data": {
      "image/png": "[encoded data removed]",
      "text/plain": [
       "<Figure size 432x288 with 1 Axes>"
      ]
     },
     "metadata": {
      "needs_background": "light"
     },
     "output_type": "display_data"
    }
   ],
   "source": [
    "# start model training\n",
    "nlu.train(train_dataset, val_dataset, epochs=3, batch_size=32)"
   ]
  },
  {
   "cell_type": "markdown",
   "metadata": {},
   "source": [
    "## Save the trained model"
   ]
  },
  {
   "cell_type": "code",
   "execution_count": 6,
   "metadata": {},
   "outputs": [
    {
     "name": "stdout",
     "output_type": "stream",
     "text": [
      "Saving model to '../saved_models/joint_bert_model' ...\n",
      "Saved!\n"
     ]
    }
   ],
   "source": [
    "save_path = f\"../saved_models/joint_{model_type}_model\"\n",
    "\n",
    "print(f\"Saving model to '{save_path}' ...\")\n",
    "nlu.save(save_path)\n",
    "print(\"Saved!\")"
   ]
  },
  {
   "cell_type": "markdown",
   "metadata": {},
   "source": [
    "## [Optional] Load the model from disk"
   ]
  },
  {
   "cell_type": "code",
   "execution_count": 7,
   "metadata": {},
   "outputs": [
    {
     "name": "stdout",
     "output_type": "stream",
     "text": [
      "Loading model ...\n",
      "Loading BertNLU ...\n",
      "Model: \"model_1\"\n",
      "__________________________________________________________________________________________________\n",
      "Layer (type)                    Output Shape         Param #     Connected to                     \n",
      "==================================================================================================\n",
      "input_word_ids (InputLayer)     [(None, None)]       0                                            \n",
      "__________________________________________________________________________________________________\n",
      "input_mask (InputLayer)         [(None, None)]       0                                            \n",
      "__________________________________________________________________________________________________\n",
      "input_type_ids (InputLayer)     [(None, None)]       0                                            \n",
      "__________________________________________________________________________________________________\n",
      "BertLayer (KerasLayer)          [(None, 768), (None, 109482241   input_word_ids[0][0]             \n",
      "                                                                 input_mask[0][0]                 \n",
      "                                                                 input_type_ids[0][0]             \n",
      "__________________________________________________________________________________________________\n",
      "time_distributed_1 (TimeDistrib (None, None, 73)     56137       BertLayer[0][1]                  \n",
      "__________________________________________________________________________________________________\n",
      "valid_positions (InputLayer)    [(None, None, 73)]   0                                            \n",
      "__________________________________________________________________________________________________\n",
      "slots_tagger (Multiply)         (None, None, 73)     0           time_distributed_1[0][0]         \n",
      "                                                                 valid_positions[0][0]            \n",
      "__________________________________________________________________________________________________\n",
      "intent_classifier (Dense)       (None, 7)            5383        BertLayer[0][0]                  \n",
      "==================================================================================================\n",
      "Total params: 109,543,761\n",
      "Trainable params: 109,543,760\n",
      "Non-trainable params: 1\n",
      "__________________________________________________________________________________________________\n"
     ]
    }
   ],
   "source": [
    "print(\"Loading model ...\")\n",
    "nlu = AutoNLU.load(save_path)"
   ]
  },
  {
   "cell_type": "markdown",
   "metadata": {},
   "source": [
    "## Reading Testing Dataset"
   ]
  },
  {
   "cell_type": "code",
   "execution_count": 8,
   "metadata": {},
   "outputs": [],
   "source": [
    "test_path = \"../data/snips/test\" # please, specify the path to the testing dataset\n",
    "test_dataset = Reader.read(test_path)"
   ]
  },
  {
   "cell_type": "markdown",
   "metadata": {},
   "source": [
    "## Evaluating model"
   ]
  },
  {
   "cell_type": "code",
   "execution_count": 9,
   "metadata": {},
   "outputs": [
    {
     "name": "stdout",
     "output_type": "stream",
     "text": [
      "Vectorizing validation text ...\n",
      "Slot Classification Report:                             precision    recall  f1-score   support\n",
      "\n",
      "                     album     0.1579    0.3000    0.2069        10\n",
      "                    artist     0.9196    0.9626    0.9406       107\n",
      "               best_rating     1.0000    1.0000    1.0000        43\n",
      "                      city     1.0000    0.9833    0.9916        60\n",
      "     condition_description     1.0000    1.0000    1.0000        28\n",
      "     condition_temperature     1.0000    1.0000    1.0000        23\n",
      "                   country     1.0000    0.9773    0.9885        44\n",
      "                   cuisine     0.9167    0.7857    0.8462        14\n",
      "          current_location     1.0000    1.0000    1.0000        14\n",
      "               entity_name     0.8387    0.7879    0.8125        33\n",
      "                  facility     1.0000    1.0000    1.0000         3\n",
      "                     genre     1.0000    1.0000    1.0000         5\n",
      "            geographic_poi     1.0000    1.0000    1.0000        11\n",
      "             location_name     1.0000    0.9583    0.9787        24\n",
      "                movie_name     0.8889    0.8511    0.8696        47\n",
      "                movie_type     1.0000    1.0000    1.0000        33\n",
      "                music_item     0.9808    0.9808    0.9808       104\n",
      "      object_location_type     1.0000    1.0000    1.0000        22\n",
      "               object_name     0.8187    0.8912    0.8534       147\n",
      "object_part_of_series_type     0.8333    0.9091    0.8696        11\n",
      "             object_select     0.9756    1.0000    0.9877        40\n",
      "               object_type     0.9699    0.9938    0.9817       162\n",
      "    party_size_description     1.0000    1.0000    1.0000        10\n",
      "         party_size_number     0.9804    1.0000    0.9901        50\n",
      "                  playlist     0.9213    0.9070    0.9141       129\n",
      "            playlist_owner     1.0000    1.0000    1.0000        70\n",
      "                       poi     0.8750    0.8750    0.8750         8\n",
      "               rating_unit     1.0000    1.0000    1.0000        40\n",
      "              rating_value     1.0000    1.0000    1.0000        80\n",
      "           restaurant_name     0.7778    0.9333    0.8485        15\n",
      "           restaurant_type     1.0000    0.9692    0.9844        65\n",
      "               served_dish     0.8462    0.9167    0.8800        12\n",
      "                   service     1.0000    1.0000    1.0000        24\n",
      "                      sort     0.9688    0.9688    0.9688        32\n",
      "          spatial_relation     0.9324    0.9718    0.9517        71\n",
      "                     state     0.9831    0.9831    0.9831        59\n",
      "                 timeRange     0.9905    0.9720    0.9811       107\n",
      "                     track     0.0833    0.1111    0.0952         9\n",
      "                      year     1.0000    1.0000    1.0000        24\n",
      "\n",
      "                 micro avg     0.9384    0.9536    0.9460      1790\n",
      "                 macro avg     0.9143    0.9228    0.9174      1790\n",
      "              weighted avg     0.9450    0.9536    0.9488      1790\n",
      "\n",
      "Slot token f1_score = 0.973560\n",
      "Slot tag f1_score = 0.945968\n",
      "Intent accuracy = 0.984286\n"
     ]
    }
   ],
   "source": [
    "token_f1_score, tag_f1_score, report, acc = nlu.evaluate(test_dataset)\n",
    "\n",
    "print('Slot Classification Report:', report)\n",
    "print('Slot token f1_score = %f' % token_f1_score)\n",
    "print('Slot tag f1_score = %f' % tag_f1_score)\n",
    "print('Intent accuracy = %f' % acc)"
   ]
  },
  {
   "cell_type": "markdown",
   "metadata": {},
   "source": [
    "## Make Predictions"
   ]
  },
  {
   "cell_type": "code",
   "execution_count": 10,
   "metadata": {},
   "outputs": [
    {
     "data": {
      "application/vnd.jupyter.widget-view+json": {
       "model_id": "9d3a34cf22b14a248c30448969ea96ce",
       "version_major": 2,
       "version_minor": 0
      },
      "text/plain": [
       "Textarea(value='add sabrina salerno to the grime instrumentals playlist', description='Utterance:', layout=Lay…"
      ]
     },
     "metadata": {},
     "output_type": "display_data"
    },
    {
     "data": {
      "application/vnd.jupyter.widget-view+json": {
       "model_id": "6182f1a3113b4546aef5a8120738846e",
       "version_major": 2,
       "version_minor": 0
      },
      "text/plain": [
       "Button(description='Predict', style=ButtonStyle())"
      ]
     },
     "metadata": {},
     "output_type": "display_data"
    },
    {
     "data": {
      "application/vnd.jupyter.widget-view+json": {
       "model_id": "72940b64266144b0aa2eda363908b454",
       "version_major": 2,
       "version_minor": 0
      },
      "text/plain": [
       "Textarea(value='', description='Result:', disabled=True, layout=Layout(flex='0 1 auto', height='400px', min_he…"
      ]
     },
     "metadata": {},
     "output_type": "display_data"
    }
   ],
   "source": [
    "l = widgets.Layout(flex='0 1 auto', height='40px', min_height='30px', width='auto')\n",
    "utterance_txt = widgets.Textarea(\n",
    "    value='add sabrina salerno to the grime instrumentals playlist',\n",
    "    placeholder='Type utterance here!',\n",
    "    description='Utterance:',\n",
    "    layout=l,\n",
    "    disabled=False\n",
    ")\n",
    "\n",
    "predict_btn = widgets.Button(\n",
    "    description='Predict'\n",
    ")\n",
    "\n",
    "result_layout = widgets.Layout(flex='0 1 auto', height='400px', min_height='30px', width='auto')\n",
    "result_txt = widgets.Textarea(\n",
    "    value='',\n",
    "    placeholder='Result goes here',\n",
    "    description='Result:',\n",
    "    layout=result_layout,\n",
    "    disabled=True\n",
    ")\n",
    "\n",
    "\n",
    "def btn_click_event(x):\n",
    "    result = nlu.predict(utterance_txt.value)\n",
    "    result = json.dumps(result, indent=4, sort_keys=True)\n",
    "    result_txt.value = result\n",
    "    \n",
    "predict_btn.on_click(btn_click_event)\n",
    "display(utterance_txt, predict_btn, result_txt)\n"
   ]
  },
  {
   "cell_type": "code",
   "execution_count": null,
   "metadata": {},
   "outputs": [],
   "source": []
  }
 ],
 "metadata": {
  "kernelspec": {
   "display_name": "nlp_env",
   "language": "python",
   "name": "nlp_env"
  },
  "language_info": {
   "codemirror_mode": {
    "name": "ipython",
    "version": 3
   },
   "file_extension": ".py",
   "mimetype": "text/x-python",
   "name": "python",
   "nbconvert_exporter": "python",
   "pygments_lexer": "ipython3",
   "version": "3.8.5"
  }
 },
 "nbformat": 4,
 "nbformat_minor": 4
}
