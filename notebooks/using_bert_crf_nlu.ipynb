{
 "cells": [
  {
   "cell_type": "markdown",
   "metadata": {},
   "source": [
    "# Using `BertCrfNLU`"
   ]
  },
  {
   "cell_type": "markdown",
   "metadata": {},
   "source": [
    "This is based on tensorflow hub"
   ]
  },
  {
   "cell_type": "code",
   "execution_count": 1,
   "metadata": {},
   "outputs": [],
   "source": [
    "# imports\n",
    "from dialognlu import BertCrfNLU, AutoNLU\n",
    "from dialognlu.readers.goo_format_reader import Reader\n",
    "\n",
    "import ipywidgets as widgets\n",
    "import json"
   ]
  },
  {
   "cell_type": "markdown",
   "metadata": {},
   "source": [
    "## Reading Training and Validation Datasets"
   ]
  },
  {
   "cell_type": "code",
   "execution_count": 2,
   "metadata": {},
   "outputs": [],
   "source": [
    "train_path = \"../data/snips/train\" # please, specify the path to your dataset\n",
    "val_path = \"../data/snips/valid\" # please, specify the path to your dataset\n",
    "\n",
    "train_dataset = Reader.read(train_path)\n",
    "val_dataset = Reader.read(val_path)"
   ]
  },
  {
   "cell_type": "markdown",
   "metadata": {},
   "source": [
    "## Initialize `BertCrfNLU` model"
   ]
  },
  {
   "cell_type": "markdown",
   "metadata": {},
   "source": [
    "Choose `model_type`"
   ]
  },
  {
   "cell_type": "code",
   "execution_count": 3,
   "metadata": {},
   "outputs": [
    {
     "data": {
      "application/vnd.jupyter.widget-view+json": {
       "model_id": "f4dd9cc349724fa78a32ffb07a6c9b89",
       "version_major": 2,
       "version_minor": 0
      },
      "text/plain": [
       "Dropdown(description='model_type:', options=('bert', 'albert'), value='bert')"
      ]
     },
     "metadata": {},
     "output_type": "display_data"
    }
   ],
   "source": [
    "model_type_wid = widgets.Dropdown(options=['bert', 'albert'], value='bert', description='model_type:', \n",
    "                                  disabled=False)\n",
    "display(model_type_wid)"
   ]
  },
  {
   "cell_type": "code",
   "execution_count": 4,
   "metadata": {},
   "outputs": [
    {
     "name": "stderr",
     "output_type": "stream",
     "text": [
      "INFO:absl:Using /tmp/tfhub_modules to cache modules.\n"
     ]
    },
    {
     "name": "stdout",
     "output_type": "stream",
     "text": [
      "{'model_type': 'albert'}\n",
      "INFO:tensorflow:loading sentence piece model\n"
     ]
    },
    {
     "name": "stderr",
     "output_type": "stream",
     "text": [
      "INFO:tensorflow:loading sentence piece model\n"
     ]
    }
   ],
   "source": [
    "model_type = model_type_wid.value\n",
    "config = {\n",
    "    \"model_type\": model_type #\"bert\" #\"albert\"\n",
    "}\n",
    "print(config)\n",
    "\n",
    "# initialize BertCrfNLU from config\n",
    "nlu = BertCrfNLU.from_config(config)"
   ]
  },
  {
   "cell_type": "markdown",
   "metadata": {},
   "source": [
    "## Train `BertCrfNLU` model"
   ]
  },
  {
   "cell_type": "code",
   "execution_count": 5,
   "metadata": {},
   "outputs": [
    {
     "name": "stdout",
     "output_type": "stream",
     "text": [
      "Vectorizing training text ...\n",
      "Fitting tags encoder ...\n",
      "Fitting intent encoder ...\n",
      "Encoding training tags ...\n",
      "Encoding training intents ...\n",
      "Vectorizing validation text ...\n",
      "Encoding validation tags ...\n",
      "Encoding validation intents ...\n"
     ]
    },
    {
     "name": "stderr",
     "output_type": "stream",
     "text": [
      "/home/mwahdan/anaconda3/envs/nlp_env/lib/python3.8/site-packages/tensorflow/python/autograph/impl/api.py:390: UserWarning: CRF Decoding does not work with KerasTensors in TF2.4. The bug has since been fixed in tensorflow/tensorflow##45534\n",
      "  return py_builtins.overload_of(f)(*args)\n"
     ]
    },
    {
     "name": "stdout",
     "output_type": "stream",
     "text": [
      "Model: \"model\"\n",
      "__________________________________________________________________________________________________\n",
      "Layer (type)                    Output Shape         Param #     Connected to                     \n",
      "==================================================================================================\n",
      "input_word_ids (InputLayer)     [(None, None)]       0                                            \n",
      "__________________________________________________________________________________________________\n",
      "input_mask (InputLayer)         [(None, None)]       0                                            \n",
      "__________________________________________________________________________________________________\n",
      "input_type_ids (InputLayer)     [(None, None)]       0                                            \n",
      "__________________________________________________________________________________________________\n",
      "AlbertLayer (KerasLayer)        [(None, 768), (None, 11683584    input_word_ids[0][0]             \n",
      "                                                                 input_mask[0][0]                 \n",
      "                                                                 input_type_ids[0][0]             \n",
      "__________________________________________________________________________________________________\n",
      "sequence_lengths (InputLayer)   [(None, 1)]          0                                            \n",
      "__________________________________________________________________________________________________\n",
      "slots_tagger (CRFLayer)         (None, None, 768)    589824      AlbertLayer[0][1]                \n",
      "                                                                 sequence_lengths[0][0]           \n",
      "__________________________________________________________________________________________________\n",
      "intent_classifier (Dense)       (None, 7)            5383        AlbertLayer[0][0]                \n",
      "==================================================================================================\n",
      "Total params: 12,278,791\n",
      "Trainable params: 12,278,791\n",
      "Non-trainable params: 0\n",
      "__________________________________________________________________________________________________\n",
      "Training model ...\n",
      "Epoch 1/3\n",
      "409/409 [==============================] - 215s 496ms/step - loss: 63.9512 - slots_tagger_loss: 20.9575 - intent_classifier_loss: 1.0788 - intent_classifier_acc: 0.5999 - val_loss: 208.9609 - val_slots_tagger_loss: 69.6237 - val_intent_classifier_loss: 0.0897 - val_intent_classifier_acc: 0.9771\n",
      "Epoch 2/3\n",
      "409/409 [==============================] - 203s 497ms/step - loss: 3.9620 - slots_tagger_loss: 1.2995 - intent_classifier_loss: 0.0633 - intent_classifier_acc: 0.9831 - val_loss: 208.4947 - val_slots_tagger_loss: 69.4842 - val_intent_classifier_loss: 0.0421 - val_intent_classifier_acc: 0.9886\n",
      "Epoch 3/3\n",
      "409/409 [==============================] - 203s 495ms/step - loss: 2.6072 - slots_tagger_loss: 0.8549 - intent_classifier_loss: 0.0425 - intent_classifier_acc: 0.9877 - val_loss: 208.4762 - val_slots_tagger_loss: 69.4788 - val_intent_classifier_loss: 0.0400 - val_intent_classifier_acc: 0.9929\n"
     ]
    },
    {
     "data": {
      "image/png": "[encoded data removed]",
      "text/plain": [
       "<Figure size 432x288 with 1 Axes>"
      ]
     },
     "metadata": {
      "needs_background": "light"
     },
     "output_type": "display_data"
    },
    {
     "data": {
      "image/png": "[encoded data removed]",
      "text/plain": [
       "<Figure size 432x288 with 1 Axes>"
      ]
     },
     "metadata": {
      "needs_background": "light"
     },
     "output_type": "display_data"
    },
    {
     "data": {
      "image/png": "[encoded data removed]",
      "text/plain": [
       "<Figure size 432x288 with 1 Axes>"
      ]
     },
     "metadata": {
      "needs_background": "light"
     },
     "output_type": "display_data"
    },
    {
     "data": {
      "image/png": "[encoded data removed]",
      "text/plain": [
       "<Figure size 432x288 with 1 Axes>"
      ]
     },
     "metadata": {
      "needs_background": "light"
     },
     "output_type": "display_data"
    }
   ],
   "source": [
    "# start model training\n",
    "nlu.train(train_dataset, val_dataset, epochs=3, batch_size=32)"
   ]
  },
  {
   "cell_type": "markdown",
   "metadata": {},
   "source": [
    "## Save the trained model"
   ]
  },
  {
   "cell_type": "code",
   "execution_count": 6,
   "metadata": {},
   "outputs": [
    {
     "name": "stdout",
     "output_type": "stream",
     "text": [
      "Saving model to '../saved_models/joint_albert_crf_model' ...\n",
      "Folder `../saved_models/joint_albert_crf_model` created\n",
      "Saved!\n"
     ]
    }
   ],
   "source": [
    "save_path = f\"../saved_models/joint_{model_type}_crf_model\"\n",
    "\n",
    "print(f\"Saving model to '{save_path}' ...\")\n",
    "nlu.save(save_path)\n",
    "print(\"Saved!\")"
   ]
  },
  {
   "cell_type": "markdown",
   "metadata": {},
   "source": [
    "## [Optional] Load the model from disk"
   ]
  },
  {
   "cell_type": "code",
   "execution_count": 7,
   "metadata": {},
   "outputs": [
    {
     "name": "stdout",
     "output_type": "stream",
     "text": [
      "Loading model ...\n",
      "Loading BertCrfNLU ...\n",
      "Model: \"model_1\"\n",
      "__________________________________________________________________________________________________\n",
      "Layer (type)                    Output Shape         Param #     Connected to                     \n",
      "==================================================================================================\n",
      "input_word_ids (InputLayer)     [(None, None)]       0                                            \n",
      "__________________________________________________________________________________________________\n",
      "input_mask (InputLayer)         [(None, None)]       0                                            \n",
      "__________________________________________________________________________________________________\n",
      "input_type_ids (InputLayer)     [(None, None)]       0                                            \n",
      "__________________________________________________________________________________________________\n",
      "BertLayer (KerasLayer)          [(None, 768), (None, 109482241   input_word_ids[0][0]             \n",
      "                                                                 input_mask[0][0]                 \n",
      "                                                                 input_type_ids[0][0]             \n",
      "__________________________________________________________________________________________________\n",
      "sequence_lengths (InputLayer)   [(None, 1)]          0                                            \n",
      "__________________________________________________________________________________________________\n",
      "slots_tagger (CRFLayer)         (None, None, 768)    589824      BertLayer[0][1]                  \n",
      "                                                                 sequence_lengths[0][0]           \n",
      "__________________________________________________________________________________________________\n",
      "intent_classifier (Dense)       (None, 7)            5383        BertLayer[0][0]                  \n",
      "==================================================================================================\n",
      "Total params: 110,077,448\n",
      "Trainable params: 110,077,447\n",
      "Non-trainable params: 1\n",
      "__________________________________________________________________________________________________\n",
      "<class 'dialognlu.nlu_components.BertNLU'>\n"
     ]
    }
   ],
   "source": [
    "print(\"Loading model ...\")\n",
    "nlu = AutoNLU.load(\"../saved_models/joint_bert_crf_model\")\n",
    "print(type(nlu))"
   ]
  },
  {
   "cell_type": "markdown",
   "metadata": {},
   "source": [
    "## Reading Testing Dataset"
   ]
  },
  {
   "cell_type": "code",
   "execution_count": 8,
   "metadata": {},
   "outputs": [],
   "source": [
    "test_path = \"../data/snips/test\" # please, specify the path to the testing dataset\n",
    "test_dataset = Reader.read(test_path)"
   ]
  },
  {
   "cell_type": "markdown",
   "metadata": {},
   "source": [
    "## Evaluating model"
   ]
  },
  {
   "cell_type": "code",
   "execution_count": 9,
   "metadata": {},
   "outputs": [
    {
     "name": "stdout",
     "output_type": "stream",
     "text": [
      "Vectorizing validation text ...\n"
     ]
    },
    {
     "name": "stderr",
     "output_type": "stream",
     "text": [
      "/home/mwahdan/anaconda3/envs/nlp_env/lib/python3.8/site-packages/tensorflow/python/keras/engine/functional.py:592: UserWarning: Input dict contained keys ['valid_positions'] which did not match any model input. They will be ignored by the model.\n",
      "  warnings.warn(\n"
     ]
    },
    {
     "name": "stdout",
     "output_type": "stream",
     "text": [
      "Slot Classification Report:                             precision    recall  f1-score   support\n",
      "\n",
      "                     album     0.6000    0.3000    0.4000        10\n",
      "                    artist     0.9524    0.9346    0.9434       107\n",
      "               best_rating     1.0000    1.0000    1.0000        43\n",
      "                      city     0.9831    0.9667    0.9748        60\n",
      "     condition_description     1.0000    1.0000    1.0000        28\n",
      "     condition_temperature     1.0000    1.0000    1.0000        23\n",
      "                   country     0.9767    0.9545    0.9655        44\n",
      "                   cuisine     0.7647    0.9286    0.8387        14\n",
      "          current_location     1.0000    1.0000    1.0000        14\n",
      "               entity_name     0.7778    0.8485    0.8116        33\n",
      "                  facility     1.0000    1.0000    1.0000         3\n",
      "                     genre     1.0000    1.0000    1.0000         5\n",
      "            geographic_poi     0.9167    1.0000    0.9565        11\n",
      "             location_name     1.0000    0.9583    0.9787        24\n",
      "                movie_name     0.8537    0.7447    0.7955        47\n",
      "                movie_type     1.0000    1.0000    1.0000        33\n",
      "                music_item     0.9903    0.9808    0.9855       104\n",
      "      object_location_type     1.0000    1.0000    1.0000        22\n",
      "               object_name     0.8365    0.9048    0.8693       147\n",
      "object_part_of_series_type     0.8333    0.9091    0.8696        11\n",
      "             object_select     0.9756    1.0000    0.9877        40\n",
      "               object_type     0.9758    0.9938    0.9847       162\n",
      "    party_size_description     1.0000    1.0000    1.0000        10\n",
      "         party_size_number     1.0000    1.0000    1.0000        50\n",
      "                  playlist     0.9023    0.9302    0.9160       129\n",
      "            playlist_owner     1.0000    1.0000    1.0000        70\n",
      "                       poi     0.6667    0.7500    0.7059         8\n",
      "               rating_unit     1.0000    1.0000    1.0000        40\n",
      "              rating_value     1.0000    1.0000    1.0000        80\n",
      "           restaurant_name     0.8333    1.0000    0.9091        15\n",
      "           restaurant_type     1.0000    0.9846    0.9922        65\n",
      "               served_dish     0.9000    0.7500    0.8182        12\n",
      "                   service     0.9583    0.9583    0.9583        24\n",
      "                      sort     0.9394    0.9688    0.9538        32\n",
      "          spatial_relation     0.9459    0.9859    0.9655        71\n",
      "                     state     0.9831    0.9831    0.9831        59\n",
      "                 timeRange     0.9720    0.9720    0.9720       107\n",
      "                     track     0.4286    0.6667    0.5217         9\n",
      "                      year     1.0000    1.0000    1.0000        24\n",
      "\n",
      "                 micro avg     0.9442    0.9553    0.9497      1790\n",
      "                 macro avg     0.9222    0.9327    0.9245      1790\n",
      "              weighted avg     0.9462    0.9553    0.9499      1790\n",
      "\n",
      "Slot token f1_score = 0.974504\n",
      "Slot tag f1_score = 0.949736\n",
      "Intent accuracy = 0.980000\n"
     ]
    }
   ],
   "source": [
    "token_f1_score, tag_f1_score, report, acc = nlu.evaluate(test_dataset)\n",
    "\n",
    "print('Slot Classification Report:', report)\n",
    "print('Slot token f1_score = %f' % token_f1_score)\n",
    "print('Slot tag f1_score = %f' % tag_f1_score)\n",
    "print('Intent accuracy = %f' % acc)"
   ]
  },
  {
   "cell_type": "markdown",
   "metadata": {},
   "source": [
    "## Make Predictions"
   ]
  },
  {
   "cell_type": "code",
   "execution_count": 10,
   "metadata": {},
   "outputs": [
    {
     "data": {
      "application/vnd.jupyter.widget-view+json": {
       "model_id": "16b96a78ed2343f09e70e1926bbf5d5d",
       "version_major": 2,
       "version_minor": 0
      },
      "text/plain": [
       "Textarea(value='add sabrina salerno to the grime instrumentals playlist', description='Utterance:', layout=Lay…"
      ]
     },
     "metadata": {},
     "output_type": "display_data"
    },
    {
     "data": {
      "application/vnd.jupyter.widget-view+json": {
       "model_id": "0a4f85ce2b2342bd8a24cc70ef6d533f",
       "version_major": 2,
       "version_minor": 0
      },
      "text/plain": [
       "Button(description='Predict', style=ButtonStyle())"
      ]
     },
     "metadata": {},
     "output_type": "display_data"
    },
    {
     "data": {
      "application/vnd.jupyter.widget-view+json": {
       "model_id": "76a8d41cdab44b00a113ea5a95afef0b",
       "version_major": 2,
       "version_minor": 0
      },
      "text/plain": [
       "Textarea(value='', description='Result:', disabled=True, layout=Layout(flex='0 1 auto', height='400px', min_he…"
      ]
     },
     "metadata": {},
     "output_type": "display_data"
    }
   ],
   "source": [
    "l = widgets.Layout(flex='0 1 auto', height='40px', min_height='30px', width='auto')\n",
    "utterance_txt = widgets.Textarea(\n",
    "    value='add sabrina salerno to the grime instrumentals playlist',\n",
    "    placeholder='Type utterance here!',\n",
    "    description='Utterance:',\n",
    "    layout=l,\n",
    "    disabled=False\n",
    ")\n",
    "\n",
    "predict_btn = widgets.Button(\n",
    "    description='Predict'\n",
    ")\n",
    "\n",
    "result_layout = widgets.Layout(flex='0 1 auto', height='400px', min_height='30px', width='auto')\n",
    "result_txt = widgets.Textarea(\n",
    "    value='',\n",
    "    placeholder='Result goes here',\n",
    "    description='Result:',\n",
    "    layout=result_layout,\n",
    "    disabled=True\n",
    ")\n",
    "\n",
    "\n",
    "def btn_click_event(x):\n",
    "    result = nlu.predict(utterance_txt.value)\n",
    "    result = json.dumps(result, indent=4, sort_keys=True)\n",
    "    result_txt.value = result\n",
    "    \n",
    "predict_btn.on_click(btn_click_event)\n",
    "display(utterance_txt, predict_btn, result_txt)\n"
   ]
  },
  {
   "cell_type": "code",
   "execution_count": null,
   "metadata": {},
   "outputs": [],
   "source": []
  }
 ],
 "metadata": {
  "kernelspec": {
   "display_name": "nlp_env",
   "language": "python",
   "name": "nlp_env"
  },
  "language_info": {
   "codemirror_mode": {
    "name": "ipython",
    "version": 3
   },
   "file_extension": ".py",
   "mimetype": "text/x-python",
   "name": "python",
   "nbconvert_exporter": "python",
   "pygments_lexer": "ipython3",
   "version": "3.8.5"
  }
 },
 "nbformat": 4,
 "nbformat_minor": 4
}
