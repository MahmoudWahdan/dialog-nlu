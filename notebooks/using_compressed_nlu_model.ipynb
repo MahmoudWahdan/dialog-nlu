{
 "cells": [
  {
   "cell_type": "markdown",
   "metadata": {},
   "source": [
    "# Using a compressed tflite NLU model"
   ]
  },
  {
   "cell_type": "markdown",
   "metadata": {},
   "source": [
    "## First thing is to disable GPU"
   ]
  },
  {
   "cell_type": "code",
   "execution_count": 1,
   "metadata": {},
   "outputs": [],
   "source": [
    "# diasable the GPU\n",
    "import os\n",
    "os.environ[\"CUDA_VISIBLE_DEVICES\"] = \"-1\""
   ]
  },
  {
   "cell_type": "code",
   "execution_count": 2,
   "metadata": {},
   "outputs": [],
   "source": [
    "# imports\n",
    "from dialognlu import TransformerNLU\n",
    "from dialognlu.readers.goo_format_reader import Reader\n",
    "\n",
    "import ipywidgets as widgets\n",
    "import json"
   ]
  },
  {
   "cell_type": "markdown",
   "metadata": {},
   "source": [
    "## Load the model from disk"
   ]
  },
  {
   "cell_type": "code",
   "execution_count": 3,
   "metadata": {},
   "outputs": [
    {
     "name": "stdout",
     "output_type": "stream",
     "text": [
      "Loading model ...\n"
     ]
    },
    {
     "name": "stderr",
     "output_type": "stream",
     "text": [
      "/home/mwahdan/anaconda3/envs/nlp_env/lib/python3.8/site-packages/sklearn/base.py:329: UserWarning: Trying to unpickle estimator LabelEncoder from version 0.24.1 when using version 0.23.2. This might lead to breaking code or invalid results. Use at your own risk.\n",
      "  warnings.warn(\n"
     ]
    },
    {
     "name": "stdout",
     "output_type": "stream",
     "text": [
      "Loading quantized model in 2 processes\n",
      "Model Loaded, process id: 7944\n",
      "Model Loaded, process id: 7943\n"
     ]
    }
   ],
   "source": [
    "model_path = \"../saved_models/joint_distilbert_model\" # specify the model_path\n",
    "\n",
    "print(\"Loading model ...\")\n",
    "nlu = TransformerNLU.load(model_path, quantized=True, num_process=2)"
   ]
  },
  {
   "cell_type": "markdown",
   "metadata": {},
   "source": [
    "## Reading Testing Dataset"
   ]
  },
  {
   "cell_type": "code",
   "execution_count": 4,
   "metadata": {},
   "outputs": [],
   "source": [
    "test_path = \"../data/snips/test\" # please, specify the path to the testing dataset\n",
    "test_dataset = Reader.read(test_path)"
   ]
  },
  {
   "cell_type": "markdown",
   "metadata": {},
   "source": [
    "## Evaluating model"
   ]
  },
  {
   "cell_type": "code",
   "execution_count": 5,
   "metadata": {},
   "outputs": [
    {
     "name": "stdout",
     "output_type": "stream",
     "text": [
      "Vectorizing validation text ...\n",
      "Slot Classification Report:                             precision    recall  f1-score   support\n",
      "\n",
      "                     album     0.0000    0.0000    0.0000        10\n",
      "                    artist     0.8641    0.8318    0.8476       107\n",
      "               best_rating     1.0000    0.9535    0.9762        43\n",
      "                      city     0.8438    0.9000    0.8710        60\n",
      "     condition_description     0.9310    0.9643    0.9474        28\n",
      "     condition_temperature     0.9583    1.0000    0.9787        23\n",
      "                   country     0.6491    0.8409    0.7327        44\n",
      "                   cuisine     0.8000    0.2857    0.4211        14\n",
      "          current_location     1.0000    1.0000    1.0000        14\n",
      "               entity_name     0.4902    0.7576    0.5952        33\n",
      "                  facility     0.7500    1.0000    0.8571         3\n",
      "                     genre     1.0000    0.2000    0.3333         5\n",
      "            geographic_poi     0.9091    0.9091    0.9091        11\n",
      "             location_name     1.0000    0.9583    0.9787        24\n",
      "                movie_name     0.6429    0.5745    0.6067        47\n",
      "                movie_type     1.0000    1.0000    1.0000        33\n",
      "                music_item     0.8762    0.8846    0.8804       104\n",
      "      object_location_type     1.0000    1.0000    1.0000        22\n",
      "               object_name     0.6296    0.8095    0.7083       147\n",
      "object_part_of_series_type     0.6923    0.8182    0.7500        11\n",
      "             object_select     0.9524    1.0000    0.9756        40\n",
      "               object_type     0.9029    0.9753    0.9377       162\n",
      "    party_size_description     0.9091    1.0000    0.9524        10\n",
      "         party_size_number     0.9800    0.9800    0.9800        50\n",
      "                  playlist     0.7273    0.8062    0.7647       129\n",
      "            playlist_owner     1.0000    0.9429    0.9706        70\n",
      "                       poi     0.3333    0.2500    0.2857         8\n",
      "               rating_unit     0.9756    1.0000    0.9877        40\n",
      "              rating_value     0.9756    1.0000    0.9877        80\n",
      "           restaurant_name     0.6000    0.8000    0.6857        15\n",
      "           restaurant_type     0.9219    0.9077    0.9147        65\n",
      "               served_dish     0.3810    0.6667    0.4848        12\n",
      "                   service     0.8846    0.9583    0.9200        24\n",
      "                      sort     0.8571    0.7500    0.8000        32\n",
      "          spatial_relation     0.8243    0.8592    0.8414        71\n",
      "                     state     0.8621    0.8475    0.8547        59\n",
      "                 timeRange     0.8151    0.9065    0.8584       107\n",
      "                     track     0.1500    0.3333    0.2069         9\n",
      "                      year     0.9231    1.0000    0.9600        24\n",
      "\n",
      "                 micro avg     0.8158    0.8732    0.8435      1790\n",
      "                 macro avg     0.7952    0.8121    0.7888      1790\n",
      "              weighted avg     0.8325    0.8732    0.8480      1790\n",
      "\n",
      "Slot token f1_score = 0.933743\n",
      "Slot tag f1_score = 0.843497\n",
      "Intent accuracy = 0.967143\n"
     ]
    }
   ],
   "source": [
    "token_f1_score, tag_f1_score, report, acc = nlu.evaluate(test_dataset)\n",
    "\n",
    "print('Slot Classification Report:', report)\n",
    "print('Slot token f1_score = %f' % token_f1_score)\n",
    "print('Slot tag f1_score = %f' % tag_f1_score)\n",
    "print('Intent accuracy = %f' % acc)"
   ]
  },
  {
   "cell_type": "markdown",
   "metadata": {},
   "source": [
    "## Make Predictions"
   ]
  },
  {
   "cell_type": "code",
   "execution_count": 6,
   "metadata": {},
   "outputs": [
    {
     "data": {
      "application/vnd.jupyter.widget-view+json": {
       "model_id": "3487ba1d681245759857d44bf9e73cf7",
       "version_major": 2,
       "version_minor": 0
      },
      "text/plain": [
       "Textarea(value='add sabrina salerno to the grime instrumentals playlist', description='Utterance:', layout=Lay…"
      ]
     },
     "metadata": {},
     "output_type": "display_data"
    },
    {
     "data": {
      "application/vnd.jupyter.widget-view+json": {
       "model_id": "0061d5bc6ae74c41ab5189233efcac99",
       "version_major": 2,
       "version_minor": 0
      },
      "text/plain": [
       "Button(description='Predict', style=ButtonStyle())"
      ]
     },
     "metadata": {},
     "output_type": "display_data"
    },
    {
     "data": {
      "application/vnd.jupyter.widget-view+json": {
       "model_id": "e469a16be1d34735bb97a775fcb181d9",
       "version_major": 2,
       "version_minor": 0
      },
      "text/plain": [
       "Textarea(value='', description='Result:', disabled=True, layout=Layout(flex='0 1 auto', height='400px', min_he…"
      ]
     },
     "metadata": {},
     "output_type": "display_data"
    }
   ],
   "source": [
    "l = widgets.Layout(flex='0 1 auto', height='40px', min_height='30px', width='auto')\n",
    "utterance_txt = widgets.Textarea(\n",
    "    value='add sabrina salerno to the grime instrumentals playlist',\n",
    "    placeholder='Type utterance here!',\n",
    "    description='Utterance:',\n",
    "    layout=l,\n",
    "    disabled=False\n",
    ")\n",
    "\n",
    "predict_btn = widgets.Button(\n",
    "    description='Predict'\n",
    ")\n",
    "\n",
    "result_layout = widgets.Layout(flex='0 1 auto', height='400px', min_height='30px', width='auto')\n",
    "result_txt = widgets.Textarea(\n",
    "    value='',\n",
    "    placeholder='Result goes here',\n",
    "    description='Result:',\n",
    "    layout=result_layout,\n",
    "    disabled=True\n",
    ")\n",
    "\n",
    "\n",
    "def btn_click_event(x):\n",
    "    result = nlu.predict(utterance_txt.value)\n",
    "    result = json.dumps(result, indent=4, sort_keys=True)\n",
    "    result_txt.value = result\n",
    "    \n",
    "predict_btn.on_click(btn_click_event)\n",
    "display(utterance_txt, predict_btn, result_txt)\n"
   ]
  },
  {
   "cell_type": "code",
   "execution_count": null,
   "metadata": {},
   "outputs": [],
   "source": []
  }
 ],
 "metadata": {
  "kernelspec": {
   "display_name": "nlp_env",
   "language": "python",
   "name": "nlp_env"
  },
  "language_info": {
   "codemirror_mode": {
    "name": "ipython",
    "version": 3
   },
   "file_extension": ".py",
   "mimetype": "text/x-python",
   "name": "python",
   "nbconvert_exporter": "python",
   "pygments_lexer": "ipython3",
   "version": "3.8.5"
  }
 },
 "nbformat": 4,
 "nbformat_minor": 4
}
